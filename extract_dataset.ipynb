{
 "cells": [
  {
   "cell_type": "code",
   "execution_count": 8,
   "metadata": {},
   "outputs": [
    {
     "name": "stdout",
     "output_type": "stream",
     "text": [
      "Total images with resolution 256x256: 4\n",
      "Images with resolution 256x256:\n",
      "comic3.png\n",
      "foreman.png\n",
      "oldphoto6.png\n",
      "butterfly.png\n"
     ]
    }
   ],
   "source": [
    "import os\n",
    "from PIL import Image\n",
    "\n",
    "# Path to your dataset folder\n",
    "dataset_path = \"dataset/RealSet80\"\n",
    "# dataset_path = \"models/ResShift/testdata/RealSet65\"\n",
    "\n",
    "# List to store image names with resolution 256x256\n",
    "images_with_256_res = []\n",
    "\n",
    "# Allowed image extensions\n",
    "valid_extensions = {\".jpg\", \".jpeg\", \".png\", \".bmp\", \".tiff\"}\n",
    "\n",
    "# Iterate through all files in the dataset folder\n",
    "for filename in os.listdir(dataset_path):\n",
    "    filepath = os.path.join(dataset_path, filename)\n",
    "    # Check file extension to avoid non-image files\n",
    "    if not any(filename.lower().endswith(ext) for ext in valid_extensions):\n",
    "        continue\n",
    "    try:\n",
    "        with Image.open(filepath) as img:\n",
    "            width, height = img.size\n",
    "            # Check if resolution is 256x256\n",
    "            if width == 256 and height == 256:\n",
    "                images_with_256_res.append(filename)\n",
    "    except Exception as e:\n",
    "        print(f\"Error processing {filename}: {e}\")\n",
    "\n",
    "# Output the results\n",
    "total_count = len(images_with_256_res)\n",
    "print(f\"Total images with resolution 256x256: {total_count}\")\n",
    "print(\"Images with resolution 256x256:\")\n",
    "for img in images_with_256_res:\n",
    "    print(img)\n",
    "\n"
   ]
  }
 ],
 "metadata": {
  "kernelspec": {
   "display_name": "apw",
   "language": "python",
   "name": "python3"
  },
  "language_info": {
   "codemirror_mode": {
    "name": "ipython",
    "version": 3
   },
   "file_extension": ".py",
   "mimetype": "text/x-python",
   "name": "python",
   "nbconvert_exporter": "python",
   "pygments_lexer": "ipython3",
   "version": "3.11.8"
  }
 },
 "nbformat": 4,
 "nbformat_minor": 2
}
