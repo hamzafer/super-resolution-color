{
 "cells": [
  {
   "cell_type": "code",
   "execution_count": 1,
   "metadata": {},
   "outputs": [
    {
     "name": "stdout",
     "output_type": "stream",
     "text": [
      "Renamed: /home/hamzaz/hamza/super-resolution-color/results/selected_256_RealESRGAN/foreman_out.png -> /home/hamzaz/hamza/super-resolution-color/results/selected_256_RealESRGAN/foreman.png\n",
      "Renamed: /home/hamzaz/hamza/super-resolution-color/results/selected_256_RealESRGAN/ADE_val_00000114_out.jpg -> /home/hamzaz/hamza/super-resolution-color/results/selected_256_RealESRGAN/ADE.jpg\n",
      "Renamed: /home/hamzaz/hamza/super-resolution-color/results/selected_256_RealESRGAN/comic3_out.png -> /home/hamzaz/hamza/super-resolution-color/results/selected_256_RealESRGAN/comic3.png\n",
      "Renamed: /home/hamzaz/hamza/super-resolution-color/results/selected_256_RealESRGAN/oldphoto6_out.png -> /home/hamzaz/hamza/super-resolution-color/results/selected_256_RealESRGAN/oldphoto6.png\n",
      "Renamed: /home/hamzaz/hamza/super-resolution-color/results/selected_256_RealESRGAN/butterfly_out.png -> /home/hamzaz/hamza/super-resolution-color/results/selected_256_RealESRGAN/butterfly.png\n",
      "Renamed: /home/hamzaz/hamza/super-resolution-color/results/selected_256_SwinIR/comic3_SwinIR.png -> /home/hamzaz/hamza/super-resolution-color/results/selected_256_SwinIR/comic3.png\n",
      "Renamed: /home/hamzaz/hamza/super-resolution-color/results/selected_256_SwinIR/butterfly_SwinIR.png -> /home/hamzaz/hamza/super-resolution-color/results/selected_256_SwinIR/butterfly.png\n",
      "Renamed: /home/hamzaz/hamza/super-resolution-color/results/selected_256_SwinIR/oldphoto6_SwinIR.png -> /home/hamzaz/hamza/super-resolution-color/results/selected_256_SwinIR/oldphoto6.png\n",
      "Renamed: /home/hamzaz/hamza/super-resolution-color/results/selected_256_SwinIR/ADE_val_00000114_SwinIR.png -> /home/hamzaz/hamza/super-resolution-color/results/selected_256_SwinIR/ADE.png\n",
      "Renamed: /home/hamzaz/hamza/super-resolution-color/results/selected_256_SwinIR/foreman_SwinIR.png -> /home/hamzaz/hamza/super-resolution-color/results/selected_256_SwinIR/foreman.png\n",
      "Renamed: /home/hamzaz/hamza/super-resolution-color/results/selected_256_animesr/comic3.png -> /home/hamzaz/hamza/super-resolution-color/results/selected_256_animesr/comic3.png.png\n",
      "Renamed: /home/hamzaz/hamza/super-resolution-color/results/selected_256_animesr/foreman.png -> /home/hamzaz/hamza/super-resolution-color/results/selected_256_animesr/foreman.png.png\n",
      "Renamed: /home/hamzaz/hamza/super-resolution-color/results/selected_256_animesr/oldphoto6.png -> /home/hamzaz/hamza/super-resolution-color/results/selected_256_animesr/oldphoto6.png.png\n",
      "Renamed: /home/hamzaz/hamza/super-resolution-color/results/selected_256_animesr/butterfly.png -> /home/hamzaz/hamza/super-resolution-color/results/selected_256_animesr/butterfly.png.png\n",
      "Renamed: /home/hamzaz/hamza/super-resolution-color/results/selected_256_animesr/ADE_val_00000114.png -> /home/hamzaz/hamza/super-resolution-color/results/selected_256_animesr/ADE.png\n",
      "Renamed: /home/hamzaz/hamza/super-resolution-color/results/selected_256_ResShift/comic3.png -> /home/hamzaz/hamza/super-resolution-color/results/selected_256_ResShift/comic3.png.png\n",
      "Renamed: /home/hamzaz/hamza/super-resolution-color/results/selected_256_ResShift/foreman.png -> /home/hamzaz/hamza/super-resolution-color/results/selected_256_ResShift/foreman.png.png\n",
      "Renamed: /home/hamzaz/hamza/super-resolution-color/results/selected_256_ResShift/oldphoto6.png -> /home/hamzaz/hamza/super-resolution-color/results/selected_256_ResShift/oldphoto6.png.png\n",
      "Renamed: /home/hamzaz/hamza/super-resolution-color/results/selected_256_ResShift/butterfly.png -> /home/hamzaz/hamza/super-resolution-color/results/selected_256_ResShift/butterfly.png.png\n",
      "Renamed: /home/hamzaz/hamza/super-resolution-color/results/selected_256_ResShift/ADE_val_00000114.png -> /home/hamzaz/hamza/super-resolution-color/results/selected_256_ResShift/ADE.png\n",
      "Renamed: /home/hamzaz/hamza/super-resolution-color/results/selected_256_APISR/comic3_4x.png -> /home/hamzaz/hamza/super-resolution-color/results/selected_256_APISR/comic3.png\n",
      "Renamed: /home/hamzaz/hamza/super-resolution-color/results/selected_256_APISR/foreman_4x.png -> /home/hamzaz/hamza/super-resolution-color/results/selected_256_APISR/foreman.png\n",
      "Renamed: /home/hamzaz/hamza/super-resolution-color/results/selected_256_APISR/oldphoto6_4x.png -> /home/hamzaz/hamza/super-resolution-color/results/selected_256_APISR/oldphoto6.png\n",
      "Renamed: /home/hamzaz/hamza/super-resolution-color/results/selected_256_APISR/butterfly_4x.png -> /home/hamzaz/hamza/super-resolution-color/results/selected_256_APISR/butterfly.png\n",
      "Renamed: /home/hamzaz/hamza/super-resolution-color/results/selected_256_APISR/ADE_val_00000114_4x.png -> /home/hamzaz/hamza/super-resolution-color/results/selected_256_APISR/ADE.png\n",
      "Renamed: /home/hamzaz/hamza/super-resolution-color/results/selected_256_BSRGAN/ADE_val_00000114_BSRGAN.png -> /home/hamzaz/hamza/super-resolution-color/results/selected_256_BSRGAN/ADE.png\n",
      "Renamed: /home/hamzaz/hamza/super-resolution-color/results/selected_256_BSRGAN/comic3_BSRGAN.png -> /home/hamzaz/hamza/super-resolution-color/results/selected_256_BSRGAN/comic3.png\n",
      "Renamed: /home/hamzaz/hamza/super-resolution-color/results/selected_256_BSRGAN/foreman_BSRGAN.png -> /home/hamzaz/hamza/super-resolution-color/results/selected_256_BSRGAN/foreman.png\n",
      "Renamed: /home/hamzaz/hamza/super-resolution-color/results/selected_256_BSRGAN/butterfly_BSRGAN.png -> /home/hamzaz/hamza/super-resolution-color/results/selected_256_BSRGAN/butterfly.png\n",
      "Renamed: /home/hamzaz/hamza/super-resolution-color/results/selected_256_BSRGAN/oldphoto6_BSRGAN.png -> /home/hamzaz/hamza/super-resolution-color/results/selected_256_BSRGAN/oldphoto6.png\n"
     ]
    }
   ],
   "source": [
    "import os\n",
    "\n",
    "def rename_files_consistently(base_dir):\n",
    "    for folder in os.listdir(base_dir):\n",
    "        folder_path = os.path.join(base_dir, folder)\n",
    "        \n",
    "        # Skip if not a directory\n",
    "        if os.path.isdir(folder_path):\n",
    "            for file_name in os.listdir(folder_path):\n",
    "                file_path = os.path.join(folder_path, file_name)\n",
    "                \n",
    "                # Skip if not a file\n",
    "                if os.path.isfile(file_path):\n",
    "                    # Extract the base name to make it consistent\n",
    "                    base_name = file_name.split('_')[0]  # Take the first part before the first underscore\n",
    "                    ext = os.path.splitext(file_name)[-1]\n",
    "                    \n",
    "                    # Create the new consistent name\n",
    "                    new_name = f\"{base_name}{ext}\"\n",
    "                    new_path = os.path.join(folder_path, new_name)\n",
    "                    \n",
    "                    # Rename the file\n",
    "                    os.rename(file_path, new_path)\n",
    "                    print(f\"Renamed: {file_path} -> {new_path}\")\n",
    "\n",
    "# Specify the base directory\n",
    "base_directory = \"/home/hamzaz/hamza/super-resolution-color/results\"  # Update with your actual path\n",
    "rename_files_consistently(base_directory)\n"
   ]
  },
  {
   "cell_type": "code",
   "execution_count": 1,
   "metadata": {},
   "outputs": [
    {
     "name": "stdout",
     "output_type": "stream",
     "text": [
      "Renamed: /home/hamzaz/hamza/super-resolution-color/results/selected_256_animesr/foreman.png.png -> /home/hamzaz/hamza/super-resolution-color/results/selected_256_animesr/foreman.png\n",
      "Renamed: /home/hamzaz/hamza/super-resolution-color/results/selected_256_animesr/comic3.png.png -> /home/hamzaz/hamza/super-resolution-color/results/selected_256_animesr/comic3.png\n",
      "Renamed: /home/hamzaz/hamza/super-resolution-color/results/selected_256_animesr/oldphoto6.png.png -> /home/hamzaz/hamza/super-resolution-color/results/selected_256_animesr/oldphoto6.png\n",
      "Renamed: /home/hamzaz/hamza/super-resolution-color/results/selected_256_ResShift/foreman.png.png -> /home/hamzaz/hamza/super-resolution-color/results/selected_256_ResShift/foreman.png\n",
      "Renamed: /home/hamzaz/hamza/super-resolution-color/results/selected_256_ResShift/comic3.png.png -> /home/hamzaz/hamza/super-resolution-color/results/selected_256_ResShift/comic3.png\n",
      "Renamed: /home/hamzaz/hamza/super-resolution-color/results/selected_256_ResShift/oldphoto6.png.png -> /home/hamzaz/hamza/super-resolution-color/results/selected_256_ResShift/oldphoto6.png\n",
      "Renamed: /home/hamzaz/hamza/super-resolution-color/results/selected_256_ResShift/butterfly.png.png -> /home/hamzaz/hamza/super-resolution-color/results/selected_256_ResShift/butterfly.png\n"
     ]
    }
   ],
   "source": [
    "import os\n",
    "\n",
    "def rename_files_consistently(base_dir):\n",
    "    for folder in os.listdir(base_dir):\n",
    "        folder_path = os.path.join(base_dir, folder)\n",
    "        \n",
    "        # Skip if not a directory\n",
    "        if os.path.isdir(folder_path):\n",
    "            for file_name in os.listdir(folder_path):\n",
    "                file_path = os.path.join(folder_path, file_name)\n",
    "                \n",
    "                # Skip if not a file\n",
    "                if os.path.isfile(file_path):\n",
    "                    # Extract the original base name and extension\n",
    "                    base_name = os.path.splitext(file_name)[0]  # Remove extension\n",
    "                    ext = os.path.splitext(file_name)[-1]  # Get extension\n",
    "                    \n",
    "                    # Handle cases where the base name already includes an extra `.ext`\n",
    "                    if '.' in base_name:\n",
    "                        base_name = base_name.split('.')[0]  # Take only the first part\n",
    "                    \n",
    "                    # Create the new consistent name\n",
    "                    new_name = f\"{base_name}{ext}\"\n",
    "                    new_path = os.path.join(folder_path, new_name)\n",
    "                    \n",
    "                    # Rename the file if the name is actually changing\n",
    "                    if file_path != new_path:\n",
    "                        os.rename(file_path, new_path)\n",
    "                        print(f\"Renamed: {file_path} -> {new_path}\")\n",
    "\n",
    "# Specify the base directory\n",
    "base_directory = \"/home/hamzaz/hamza/super-resolution-color/results\"  # Update with your actual path\n",
    "rename_files_consistently(base_directory)\n"
   ]
  }
 ],
 "metadata": {
  "kernelspec": {
   "display_name": "resshift",
   "language": "python",
   "name": "python3"
  },
  "language_info": {
   "codemirror_mode": {
    "name": "ipython",
    "version": 3
   },
   "file_extension": ".py",
   "mimetype": "text/x-python",
   "name": "python",
   "nbconvert_exporter": "python",
   "pygments_lexer": "ipython3",
   "version": "3.10.15"
  }
 },
 "nbformat": 4,
 "nbformat_minor": 2
}
